{
 "cells": [
  {
   "cell_type": "markdown",
   "metadata": {},
   "source": [
    "# GRAPH APPLICATION\n",
    "1. BFS \n",
    "2. DFS \n",
    "3. Shortest Paths "
   ]
  },
  {
   "cell_type": "markdown",
   "metadata": {},
   "source": [
    "## 1. Breadth-First-Search \n",
    "\n",
    "Explore graph level by level from start node(s)\n",
    "* level 0 : `{start_point}`\n",
    "* level `i`: vertices reachable by path of i edges but not fewer \n",
    "* build level `i` > 0 from level `i-1` by trying all outgoing edges, but ignoring vertices from previous levels "
   ]
  },
  {
   "cell_type": "markdown",
   "metadata": {},
   "source": [
    "### Making Graph - Adjacency Lists"
   ]
  },
  {
   "cell_type": "code",
   "execution_count": 3,
   "metadata": {
    "collapsed": true
   },
   "outputs": [],
   "source": [
    "a, b, c, d, e, f, g, h = range(8)\n",
    "adj = [{b, c}, {a, d}, {a}, {b, e}, {d, f, g}, {e, g, h}, {e, f, h}, {f, g}] # undirected graph"
   ]
  },
  {
   "cell_type": "markdown",
   "metadata": {},
   "source": [
    "### BFS "
   ]
  },
  {
   "cell_type": "code",
   "execution_count": 12,
   "metadata": {
    "collapsed": true
   },
   "outputs": [],
   "source": [
    "def BFS(s, adj):\n",
    "    came_from = {s: None}\n",
    "    frontier = [s]\n",
    "    level = {s: 0}\n",
    "    while frontier:\n",
    "        current = frontier.pop()\n",
    "        for neighbor in adj[current]:\n",
    "            if neighbor not in came_from: \n",
    "                came_from[neighbor] = current\n",
    "                frontier.append(neighbor)\n",
    "                level[neighbor] = level[current]+1\n",
    "    return came_from, level "
   ]
  },
  {
   "cell_type": "code",
   "execution_count": 13,
   "metadata": {
    "collapsed": true
   },
   "outputs": [],
   "source": [
    "came_from, level = BFS(b, adj)"
   ]
  },
  {
   "cell_type": "code",
   "execution_count": 14,
   "metadata": {},
   "outputs": [
    {
     "data": {
      "text/plain": [
       "{0: 1, 1: 0, 2: 2, 3: 1, 4: 2, 5: 3, 6: 3, 7: 4}"
      ]
     },
     "execution_count": 14,
     "metadata": {},
     "output_type": "execute_result"
    }
   ],
   "source": [
    "level"
   ]
  },
  {
   "cell_type": "code",
   "execution_count": 22,
   "metadata": {
    "collapsed": true
   },
   "outputs": [],
   "source": [
    "def track_path(start_point, last_point, came_from):\n",
    "    path = []\n",
    "    while last_point != start_point:\n",
    "        path.append(last_point)\n",
    "        last_point = came_from[last_point]\n",
    "    path.append(start_point)\n",
    "    path.reverse()\n",
    "    return path"
   ]
  },
  {
   "cell_type": "code",
   "execution_count": 23,
   "metadata": {},
   "outputs": [
    {
     "data": {
      "text/plain": [
       "[7, 6, 4, 3, 1]"
      ]
     },
     "execution_count": 23,
     "metadata": {},
     "output_type": "execute_result"
    }
   ],
   "source": [
    "track_path(b, h, came_from)"
   ]
  },
  {
   "cell_type": "markdown",
   "metadata": {
    "collapsed": true
   },
   "source": [
    "### Early Exit\n",
    "when we have explicit goal, stop expanding the frontier as soon as we find the goal."
   ]
  },
  {
   "cell_type": "code",
   "execution_count": 24,
   "metadata": {
    "collapsed": true
   },
   "outputs": [],
   "source": [
    "def BFS_exit(s, l, adj):\n",
    "    came_from = {s: None}\n",
    "    frontier = [s]\n",
    "    level = {s:0}\n",
    "    while frontier:\n",
    "        current = frontier.pop()\n",
    "        if current == l:\n",
    "            break\n",
    "        for neighbor in adj[current]:\n",
    "            if neighbor not in came_from:\n",
    "                came_from[neighbor] = current\n",
    "                frontier.append(neighbor)\n",
    "                level[neighbor] = level[current]+1\n",
    "    return came_from, level "
   ]
  },
  {
   "cell_type": "code",
   "execution_count": 25,
   "metadata": {
    "collapsed": true
   },
   "outputs": [],
   "source": [
    "came_from_exit, level_exit = BFS_exit(b, f, adj)"
   ]
  },
  {
   "cell_type": "code",
   "execution_count": 26,
   "metadata": {},
   "outputs": [
    {
     "data": {
      "text/plain": [
       "[5, 4, 3, 1]"
      ]
     },
     "execution_count": 26,
     "metadata": {},
     "output_type": "execute_result"
    }
   ],
   "source": [
    "track_path(b, f, came_from_exit)"
   ]
  },
  {
   "cell_type": "code",
   "execution_count": 27,
   "metadata": {},
   "outputs": [
    {
     "data": {
      "text/plain": [
       "{0: 1, 1: None, 3: 1, 4: 3, 5: 4, 6: 4, 7: 6}"
      ]
     },
     "execution_count": 27,
     "metadata": {},
     "output_type": "execute_result"
    }
   ],
   "source": [
    "came_from_exit"
   ]
  },
  {
   "cell_type": "markdown",
   "metadata": {},
   "source": [
    "## 2. Depth-First-Search \n",
    "Recursively explore graph backtracking as necessary. As if we leave some bread crumbs while expanding so that we can backtrack to the node where we left last time! \n",
    "<br>\n",
    "### DFS "
   ]
  },
  {
   "cell_type": "code",
   "execution_count": 1,
   "metadata": {
    "collapsed": true
   },
   "outputs": [],
   "source": [
    "def DFS(V, adj):\n",
    "    came_from =  {}\n",
    "    def DFS_visit(s, adj):\n",
    "        for v in adj[s]:\n",
    "            if v not in came_from:\n",
    "                came_from[v] = s\n",
    "                DFS_visit(v, adj)\n",
    "                \n",
    "    for s in V:\n",
    "        if s not in came_from :\n",
    "            came_from[s] = None \n",
    "            DFS_visit(s, adj)\n",
    "    \n",
    "    return came_from "
   ]
  },
  {
   "cell_type": "code",
   "execution_count": 4,
   "metadata": {},
   "outputs": [
    {
     "data": {
      "text/plain": [
       "{0: 1, 1: None, 2: 0, 3: 1, 4: 3, 5: 4, 6: 5, 7: 6}"
      ]
     },
     "execution_count": 4,
     "metadata": {},
     "output_type": "execute_result"
    }
   ],
   "source": [
    "DFS([b], adj)"
   ]
  },
  {
   "cell_type": "markdown",
   "metadata": {},
   "source": [
    "### Topological sort (Sorting vertices in the graph)\n",
    "Given the directed acyclic graph(DAG), order vertices so that all edges point from lower order to higher order. As edges represent dependencies, some nodes are dependent to others and some aren't. "
   ]
  },
  {
   "cell_type": "code",
   "execution_count": 69,
   "metadata": {
    "collapsed": true
   },
   "outputs": [],
   "source": [
    "DAG = { \"foundations\" : [\"walls\"],\n",
    "                \"walls\" : [\"roof\", \"plumbing\", \"windows\"],\n",
    "                \"roof\" : [\"decorating\"],\n",
    "           \"plumbing\": [\"decorating\"],\n",
    "           \"windows\" : [\"decorating\"],\n",
    "           \"decorating\": []\n",
    "}"
   ]
  },
  {
   "cell_type": "markdown",
   "metadata": {},
   "source": [
    "Source is a set of vertices which have no incoming edges"
   ]
  },
  {
   "cell_type": "code",
   "execution_count": 70,
   "metadata": {
    "collapsed": true
   },
   "outputs": [],
   "source": [
    "V = [\"foundations\"]"
   ]
  },
  {
   "cell_type": "code",
   "execution_count": 73,
   "metadata": {
    "collapsed": true
   },
   "outputs": [],
   "source": [
    "def topological_sort(V, adj):\n",
    "    order = []\n",
    "    def DFS_visit(s, adj):\n",
    "        for v in adj[s]:\n",
    "            if v not in order:\n",
    "                DFS_visit(v, adj)\n",
    "        order.append(s)\n",
    "        \n",
    "    for s in V:\n",
    "        if s not in order:\n",
    "            DFS_visit(s, adj)\n",
    "            \n",
    "    order.reverse()\n",
    "    return order"
   ]
  },
  {
   "cell_type": "code",
   "execution_count": 74,
   "metadata": {},
   "outputs": [
    {
     "data": {
      "text/plain": [
       "['foundations', 'walls', 'windows', 'plumbing', 'roof', 'decorating']"
      ]
     },
     "execution_count": 74,
     "metadata": {},
     "output_type": "execute_result"
    }
   ],
   "source": [
    "topological_sort(V, DAG)"
   ]
  },
  {
   "cell_type": "markdown",
   "metadata": {},
   "source": [
    "## 3. Shortest Paths \n",
    "* Dijkstra and A star algorithm\n",
    "* Bellman-ford algorithm"
   ]
  },
  {
   "cell_type": "markdown",
   "metadata": {},
   "source": [
    "### Dijkstra \n",
    "Prioritize lower cost path using `PriorityQueue`"
   ]
  },
  {
   "cell_type": "code",
   "execution_count": 8,
   "metadata": {
    "collapsed": true
   },
   "outputs": [],
   "source": [
    "a, b, c, d, e, f= range(6)\n",
    "DAG = [{b:2, c:4}, {d:4, e:2, c:1}, {e:3}, {f:2}, {f:2, d:3}, {}]"
   ]
  },
  {
   "attachments": {
    "Screen%20Shot%202017-09-10%20at%206.21.12%20PM.png": {
     "image/png": "[encoded data removed]"
    }
   },
   "cell_type": "markdown",
   "metadata": {},
   "source": [
    "![Screen%20Shot%202017-09-10%20at%206.21.12%20PM.png](attachment:Screen%20Shot%202017-09-10%20at%206.21.12%20PM.png)"
   ]
  },
  {
   "cell_type": "code",
   "execution_count": 3,
   "metadata": {
    "collapsed": true
   },
   "outputs": [],
   "source": [
    "import priorityqueue as pq"
   ]
  },
  {
   "cell_type": "code",
   "execution_count": 13,
   "metadata": {
    "collapsed": true
   },
   "outputs": [],
   "source": [
    "def dijkstra(start_point, goal_point, adj):\n",
    "    frontier = pq.PriorityQueue()\n",
    "    frontier.put(start_point, 0)\n",
    "    \n",
    "    came_from = {start_point: None}\n",
    "    cost_so_far = {start_point: 0}\n",
    "    \n",
    "    while not frontier.empty():\n",
    "        current = frontier.get()\n",
    "        \n",
    "        if current == goal_point:\n",
    "            break \n",
    "        \n",
    "        for neighbor in adj[current].keys():\n",
    "            new_cost = cost_so_far[current]+adj[current][neighbor]\n",
    "            if neighbor not in cost_so_far or new_cost < cost_so_far[neighbor]:\n",
    "                cost_so_far[neighbor] = new_cost \n",
    "                frontier.put(neighbor, new_cost)\n",
    "                came_from[neighbor] = current \n",
    "    \n",
    "    return came_from, cost_so_far"
   ]
  },
  {
   "cell_type": "code",
   "execution_count": 24,
   "metadata": {},
   "outputs": [
    {
     "name": "stdout",
     "output_type": "stream",
     "text": [
      "shortest path : [0, 1, 4, 5]\n",
      "cost for shortest path from a to F : 6\n"
     ]
    }
   ],
   "source": [
    "came_from, cost_so_far = dijkstra(a, f, DAG)\n",
    "print('shortest path : {}'.format(track_path(a, f, came_from)))\n",
    "print('cost for shortest path from a to F : {}'.format(cost_so_far[f]))"
   ]
  },
  {
   "cell_type": "markdown",
   "metadata": {},
   "source": [
    "### A star\n",
    "A modification of Dijkstra's algorithm that is optimized for a single destination. It priortizes paths that seem to be leading closer to the goal"
   ]
  },
  {
   "cell_type": "code",
   "execution_count": null,
   "metadata": {
    "collapsed": true
   },
   "outputs": [],
   "source": [
    "def heuristic(a, b):\n",
    "    # Manhattan-Dist \n",
    "    "
   ]
  },
  {
   "cell_type": "code",
   "execution_count": null,
   "metadata": {
    "collapsed": true
   },
   "outputs": [],
   "source": [
    "def a_star(start_point, goal_point, adj):\n",
    "    frontier = pq.PriorityQueue()\n",
    "    frontier.put(start_point, 0)\n",
    "    \n",
    "    came_from = {start_point: None}\n",
    "    cost_so_far = {start_point: 0}\n",
    "    \n",
    "    while not frontier.empty():\n",
    "        current = frontier.get()\n",
    "        if current == goal:\n",
    "            break\n",
    "        for neighbor in adj[current].keys():\n",
    "            new_cost = cost_so_far[current]+adj[current][neighbor]\n",
    "            if neighbor not in cost_so_far or new_cost < cost_so_far[neighbor]:\n",
    "                cost_so_far[neighbor] = new_cost\n",
    "                frontier.put(neighbor, new_cost + heuristric(neighbor, current))\n",
    "                came_from[neighbor] = current \n",
    "        \n",
    "        return came_from, cost_so_far "
   ]
  },
  {
   "cell_type": "markdown",
   "metadata": {},
   "source": [
    "### Bellman-Ford algorithm \n",
    "Computes all shortest-path lengths from a source `s` to all `v` or determines that a negative-weight cycle exists.  "
   ]
  },
  {
   "cell_type": "code",
   "execution_count": 11,
   "metadata": {
    "collapsed": true
   },
   "outputs": [],
   "source": [
    "s, a, b, c, d, e = range(6)\n",
    "adj = [{a:10, e:8}, {c:2}, {a:1},{b:-2}, {a:-4, c:-1}, {d:1}]"
   ]
  },
  {
   "cell_type": "code",
   "execution_count": 6,
   "metadata": {
    "collapsed": true
   },
   "outputs": [],
   "source": [
    "def bellman_ford(source, adj):\n",
    "    V = len(adj)\n",
    "    d = [float('inf')]*V\n",
    "    d[source] = 0\n",
    "    \n",
    "    for i in range(0, V):\n",
    "        for u in range(0, V):\n",
    "            for v in adj[u].keys():\n",
    "                if d[v] > d[u] + adj[u][v]:\n",
    "                    d[v] = d[u] + adj[u][v]\n",
    "\n",
    "    for u in range(0, V):  # Negative-Cycle detection \n",
    "        for v in adj[u].keys():\n",
    "            if d[v] > d[u] + adj[u][v]:\n",
    "                d[u] = -1\n",
    "    return d "
   ]
  },
  {
   "cell_type": "code",
   "execution_count": 12,
   "metadata": {},
   "outputs": [
    {
     "name": "stdout",
     "output_type": "stream",
     "text": [
      "Shortest-path distance from source S: [0, 5, 5, 7, 9, 8]\n"
     ]
    }
   ],
   "source": [
    "print('Shortest-path distance from source S: {}'.format(bellman_ford(s, adj)))"
   ]
  },
  {
   "cell_type": "markdown",
   "metadata": {},
   "source": [
    "### Floyd-Warshall algorithm \n",
    "Compute shortest path between all pairs of vertices, edges with negative weights allowed."
   ]
  },
  {
   "cell_type": "code",
   "execution_count": 1,
   "metadata": {
    "collapsed": true
   },
   "outputs": [],
   "source": [
    "_ = float('inf')\n",
    "adj = [[0, _, -2, _],\n",
    "      [4, 0, 3, _],\n",
    "      [_, _, 0, 2],\n",
    "      [_, -1, _, 0]]"
   ]
  },
  {
   "cell_type": "code",
   "execution_count": 2,
   "metadata": {
    "collapsed": true
   },
   "outputs": [],
   "source": [
    "def floyd_warshall(adj):\n",
    "    V = len(adj)   \n",
    "    for i in range(V):\n",
    "        for j in range(V):\n",
    "            for k in range(V):\n",
    "                if adj[i][j] > adj[i][k] + adj[k][j]:\n",
    "                    adj[i][j] = adj[i][k] + adj[k][j]    \n",
    "    return adj     "
   ]
  },
  {
   "cell_type": "code",
   "execution_count": 8,
   "metadata": {
    "scrolled": true
   },
   "outputs": [
    {
     "data": {
      "text/plain": [
       "[[0, -1, -2, 0], [4, 0, 2, 4], [5, 1, 0, 2], [3, -1, 1, 0]]"
      ]
     },
     "execution_count": 8,
     "metadata": {},
     "output_type": "execute_result"
    }
   ],
   "source": [
    "floyd_warshall(adj)"
   ]
  },
  {
   "cell_type": "markdown",
   "metadata": {},
   "source": [
    "references <br>\n",
    "1. [http://www.redblobgames.com/pathfinding/a-star/introduction.html]\n",
    "2. [https://ocw.mit.edu/courses/electrical-engineering-and-computer-science/6-006-introduction-to-algorithms-fall-2011/lecture-videos/lecture-14-depth-first-search-dfs-topological-sort/]"
   ]
  },
  {
   "cell_type": "code",
   "execution_count": 41,
   "metadata": {},
   "outputs": [
    {
     "data": {
      "text/plain": [
       "True"
      ]
     },
     "execution_count": 41,
     "metadata": {},
     "output_type": "execute_result"
    }
   ],
   "source": [
    "all([0,0,0,1]) == 0"
   ]
  },
  {
   "cell_type": "code",
   "execution_count": null,
   "metadata": {
    "collapsed": true
   },
   "outputs": [],
   "source": []
  }
 ],
 "metadata": {
  "kernelspec": {
   "display_name": "Python 3",
   "language": "python",
   "name": "python3"
  },
  "language_info": {
   "codemirror_mode": {
    "name": "ipython",
    "version": 3
   },
   "file_extension": ".py",
   "mimetype": "text/x-python",
   "name": "python",
   "nbconvert_exporter": "python",
   "pygments_lexer": "ipython3",
   "version": "3.6.1"
  }
 },
 "nbformat": 4,
 "nbformat_minor": 2
}
